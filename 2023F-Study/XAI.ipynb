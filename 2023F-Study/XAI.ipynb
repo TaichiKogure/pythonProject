{
 "cells": [
  {
   "cell_type": "code",
   "execution_count": 1,
   "outputs": [
    {
     "name": "stdout",
     "output_type": "stream",
     "text": [
      "<class 'pandas.core.frame.DataFrame'>\n",
      "RangeIndex: 6019 entries, 0 to 6018\n",
      "Data columns (total 11 columns):\n",
      " #   Column        Non-Null Count  Dtype  \n",
      "---  ------        --------------  -----  \n",
      " 0   Price         6019 non-null   float64\n",
      " 1   Make          6019 non-null   object \n",
      " 2   Location      6019 non-null   object \n",
      " 3   Age           6019 non-null   int64  \n",
      " 4   Odometer      6019 non-null   int64  \n",
      " 5   FuelType      6019 non-null   object \n",
      " 6   Transmission  6019 non-null   object \n",
      " 7   OwnerType     6019 non-null   object \n",
      " 8   Mileage       6019 non-null   object \n",
      " 9   EngineCC      6019 non-null   object \n",
      " 10  PowerBhp      6019 non-null   object \n",
      "dtypes: float64(1), int64(2), object(8)\n",
      "memory usage: 517.4+ KB\n"
     ]
    },
    {
     "data": {
      "text/plain": "   Price          Make    Location  Age  Odometer FuelType Transmission  \\\n0   1.75  marutiwagonr      Mumbai   10     72000      CNG       Manual   \n1  12.50  hyundaicreta        Pune    5     41000   Diesel       Manual   \n2   4.50     hondajazz     Chennai    9     46000   Petrol       Manual   \n3   6.00  marutiertiga     Chennai    8     87000   Diesel       Manual   \n4  17.74        audia4  Coimbatore    7     40670   Diesel    Automatic   \n\n  OwnerType Mileage EngineCC PowerBhp  \n0     First    26.6      998    58.16  \n1     First   19.67     1582    126.2  \n2     First    18.2     1199     88.7  \n3     First   20.77     1248    88.76  \n4    Second    15.2     1968    140.8  ",
      "text/html": "<div>\n<style scoped>\n    .dataframe tbody tr th:only-of-type {\n        vertical-align: middle;\n    }\n\n    .dataframe tbody tr th {\n        vertical-align: top;\n    }\n\n    .dataframe thead th {\n        text-align: right;\n    }\n</style>\n<table border=\"1\" class=\"dataframe\">\n  <thead>\n    <tr style=\"text-align: right;\">\n      <th></th>\n      <th>Price</th>\n      <th>Make</th>\n      <th>Location</th>\n      <th>Age</th>\n      <th>Odometer</th>\n      <th>FuelType</th>\n      <th>Transmission</th>\n      <th>OwnerType</th>\n      <th>Mileage</th>\n      <th>EngineCC</th>\n      <th>PowerBhp</th>\n    </tr>\n  </thead>\n  <tbody>\n    <tr>\n      <th>0</th>\n      <td>1.75</td>\n      <td>marutiwagonr</td>\n      <td>Mumbai</td>\n      <td>10</td>\n      <td>72000</td>\n      <td>CNG</td>\n      <td>Manual</td>\n      <td>First</td>\n      <td>26.6</td>\n      <td>998</td>\n      <td>58.16</td>\n    </tr>\n    <tr>\n      <th>1</th>\n      <td>12.50</td>\n      <td>hyundaicreta</td>\n      <td>Pune</td>\n      <td>5</td>\n      <td>41000</td>\n      <td>Diesel</td>\n      <td>Manual</td>\n      <td>First</td>\n      <td>19.67</td>\n      <td>1582</td>\n      <td>126.2</td>\n    </tr>\n    <tr>\n      <th>2</th>\n      <td>4.50</td>\n      <td>hondajazz</td>\n      <td>Chennai</td>\n      <td>9</td>\n      <td>46000</td>\n      <td>Petrol</td>\n      <td>Manual</td>\n      <td>First</td>\n      <td>18.2</td>\n      <td>1199</td>\n      <td>88.7</td>\n    </tr>\n    <tr>\n      <th>3</th>\n      <td>6.00</td>\n      <td>marutiertiga</td>\n      <td>Chennai</td>\n      <td>8</td>\n      <td>87000</td>\n      <td>Diesel</td>\n      <td>Manual</td>\n      <td>First</td>\n      <td>20.77</td>\n      <td>1248</td>\n      <td>88.76</td>\n    </tr>\n    <tr>\n      <th>4</th>\n      <td>17.74</td>\n      <td>audia4</td>\n      <td>Coimbatore</td>\n      <td>7</td>\n      <td>40670</td>\n      <td>Diesel</td>\n      <td>Automatic</td>\n      <td>Second</td>\n      <td>15.2</td>\n      <td>1968</td>\n      <td>140.8</td>\n    </tr>\n  </tbody>\n</table>\n</div>"
     },
     "execution_count": 1,
     "metadata": {},
     "output_type": "execute_result"
    }
   ],
   "source": [
    "import pandas as pd\n",
    "import numpy as np\n",
    "import matplotlib.pyplot as plt\n",
    "%matplotlib inline\n",
    "from sklearn.model_selection import train_test_split\n",
    "from sklearn.linear_model import LinearRegression\n",
    "from sklearn import linear_model\n",
    "from scipy import linalg\n",
    "\n",
    "df = pd.read_csv('automobile.csv')\n",
    "df.info()\n",
    "df.head()\n"
   ],
   "metadata": {
    "collapsed": false,
    "ExecuteTime": {
     "end_time": "2023-08-19T13:10:36.345461Z",
     "start_time": "2023-08-19T13:10:36.136393Z"
    }
   }
  },
  {
   "cell_type": "code",
   "execution_count": 2,
   "outputs": [],
   "source": [
    "df['Mileage']= pd.to_numeric(df.Mileage.replace('+AC0-1','0'))\n",
    "df['EngineCC']= pd.to_numeric(df.EngineCC.replace('+AC0-1','0'))\n",
    "df['PowerBhp']= pd.to_numeric(df.PowerBhp.replace('+AC0-1','0'))"
   ],
   "metadata": {
    "collapsed": false,
    "ExecuteTime": {
     "end_time": "2023-08-19T13:10:36.352365Z",
     "start_time": "2023-08-19T13:10:36.344962Z"
    }
   }
  },
  {
   "cell_type": "code",
   "execution_count": null,
   "outputs": [
    {
     "data": {
      "text/plain": "<seaborn.axisgrid.PairGrid at 0x1477ad290>"
     },
     "execution_count": 3,
     "metadata": {},
     "output_type": "execute_result"
    }
   ],
   "source": [
    "import seaborn as sns\n",
    "sns.pairplot(df[['Price','Age','Odometer','Mileage','EngineCC','PowerBhp']])"
   ],
   "metadata": {
    "collapsed": false,
    "is_executing": true,
    "ExecuteTime": {
     "start_time": "2023-08-19T13:10:36.358643Z"
    }
   }
  },
  {
   "cell_type": "code",
   "execution_count": null,
   "outputs": [],
   "source": [
    "import seaborn as sns\n",
    "sns.pairplot(df,vars=('Price','Age','Odometer','Mileage','EngineCC','PowerBhp'))"
   ],
   "metadata": {
    "collapsed": false,
    "is_executing": true
   }
  },
  {
   "cell_type": "code",
   "execution_count": null,
   "outputs": [],
   "source": [
    "sns.pairplot(df)"
   ],
   "metadata": {
    "collapsed": false,
    "is_executing": true
   }
  },
  {
   "cell_type": "code",
   "execution_count": null,
   "outputs": [],
   "source": [
    "import seaborn as sns\n",
    "import matplotlib.pyplot as plt\n",
    "import pandas as pd\n",
    "import numpy as np\n",
    "\n",
    "iris = sns.load_dataset('iris')\n",
    "\n",
    "sns.histplot(iris, x='sepal_length')\n",
    "plt.show()\n"
   ],
   "metadata": {
    "collapsed": false,
    "is_executing": true
   }
  },
  {
   "cell_type": "code",
   "execution_count": null,
   "outputs": [],
   "source": [],
   "metadata": {
    "collapsed": false,
    "is_executing": true
   }
  }
 ],
 "metadata": {
  "kernelspec": {
   "display_name": "Python 3",
   "language": "python",
   "name": "python3"
  },
  "language_info": {
   "codemirror_mode": {
    "name": "ipython",
    "version": 2
   },
   "file_extension": ".py",
   "mimetype": "text/x-python",
   "name": "python",
   "nbconvert_exporter": "python",
   "pygments_lexer": "ipython2",
   "version": "2.7.6"
  }
 },
 "nbformat": 4,
 "nbformat_minor": 0
}
